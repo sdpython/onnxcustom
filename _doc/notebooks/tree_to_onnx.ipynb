{
  "cells": [
    {
      "cell_type": "markdown",
      "id": "ce9bc980",
      "metadata": {},
      "source": [
        "# Convert a tree into ONNX\n",
        "\n",
        "This notebook shows how to create a tree and execute it with [onnx](https://github.com/onnx/onnx) and [onnxruntime](https://onnxruntime.ai/docs/api/python/). The direct way to do it is simple to use ONNX API and more precisely, the node [TreeEnsembleRegressor](https://github.com/onnx/onnx/blob/master/docs/Operators-ml.md#ai.onnx.ml.TreeEnsembleRegressor). Another option is to create a tree in [scikit-learn](https://scikit-learn.org/stable/) and then to convert it using [skl2onnx](https://onnx.ai/sklearn-onnx/)."
      ]
    },
    {
      "cell_type": "code",
      "execution_count": 1,
      "id": "9d772afc",
      "metadata": {},
      "outputs": [
        {
          "data": {
            "text/html": [
              "<div id=\"my_id_menu_nb\">run previous cell, wait for 2 seconds</div>\n",
              "<script>\n",
              "function repeat_indent_string(n){\n",
              "    var a = \"\" ;\n",
              "    for ( ; n > 0 ; --n)\n",
              "        a += \"    \";\n",
              "    return a;\n",
              "}\n",
              "// look up into all sections and builds an automated menu //\n",
              "var update_menu_string = function(begin, lfirst, llast, sformat, send, keep_item, begin_format, end_format) {\n",
              "    var anchors = document.getElementsByClassName(\"section\");\n",
              "    if (anchors.length == 0) {\n",
              "        anchors = document.getElementsByClassName(\"text_cell_render rendered_html\");\n",
              "    }\n",
              "    var i,t;\n",
              "    var text_menu = begin;\n",
              "    var text_memo = \"<pre>\\nlength:\" + anchors.length + \"\\n\";\n",
              "    var ind = \"\";\n",
              "    var memo_level = 1;\n",
              "    var href;\n",
              "    var tags = [];\n",
              "    var main_item = 0;\n",
              "    var format_open = 0;\n",
              "    for (i = 0; i <= llast; i++)\n",
              "        tags.push(\"h\" + i);\n",
              "\n",
              "    for (i = 0; i < anchors.length; i++) {\n",
              "        text_memo += \"**\" + anchors[i].id + \"--\\n\";\n",
              "\n",
              "        var child = null;\n",
              "        for(t = 0; t < tags.length; t++) {\n",
              "            var r = anchors[i].getElementsByTagName(tags[t]);\n",
              "            if (r.length > 0) {\n",
              "child = r[0];\n",
              "break;\n",
              "            }\n",
              "        }\n",
              "        if (child == null) {\n",
              "            text_memo += \"null\\n\";\n",
              "            continue;\n",
              "        }\n",
              "        if (anchors[i].hasAttribute(\"id\")) {\n",
              "            // when converted in RST\n",
              "            href = anchors[i].id;\n",
              "            text_memo += \"#1-\" + href;\n",
              "            // passer \u00e0 child suivant (le chercher)\n",
              "        }\n",
              "        else if (child.hasAttribute(\"id\")) {\n",
              "            // in a notebook\n",
              "            href = child.id;\n",
              "            text_memo += \"#2-\" + href;\n",
              "        }\n",
              "        else {\n",
              "            text_memo += \"#3-\" + \"*\" + \"\\n\";\n",
              "            continue;\n",
              "        }\n",
              "        var title = child.textContent;\n",
              "        var level = parseInt(child.tagName.substring(1,2));\n",
              "\n",
              "        text_memo += \"--\" + level + \"?\" + lfirst + \"--\" + title + \"\\n\";\n",
              "\n",
              "        if ((level < lfirst) || (level > llast)) {\n",
              "            continue ;\n",
              "        }\n",
              "        if (title.endsWith('\u00b6')) {\n",
              "            title = title.substring(0,title.length-1).replace(\"<\", \"&lt;\")\n",
              "         .replace(\">\", \"&gt;\").replace(\"&\", \"&amp;\");\n",
              "        }\n",
              "        if (title.length == 0) {\n",
              "            continue;\n",
              "        }\n",
              "\n",
              "        while (level < memo_level) {\n",
              "            text_menu += end_format + \"</ul>\\n\";\n",
              "            format_open -= 1;\n",
              "            memo_level -= 1;\n",
              "        }\n",
              "        if (level == lfirst) {\n",
              "            main_item += 1;\n",
              "        }\n",
              "        if (keep_item != -1 && main_item != keep_item + 1) {\n",
              "            // alert(main_item + \" - \" + level + \" - \" + keep_item);\n",
              "            continue;\n",
              "        }\n",
              "        while (level > memo_level) {\n",
              "            text_menu += \"<ul>\\n\";\n",
              "            memo_level += 1;\n",
              "        }\n",
              "        text_menu += repeat_indent_string(level-2);\n",
              "        text_menu += begin_format + sformat.replace(\"__HREF__\", href).replace(\"__TITLE__\", title);\n",
              "        format_open += 1;\n",
              "    }\n",
              "    while (1 < memo_level) {\n",
              "        text_menu += end_format + \"</ul>\\n\";\n",
              "        memo_level -= 1;\n",
              "        format_open -= 1;\n",
              "    }\n",
              "    text_menu += send;\n",
              "    //text_menu += \"\\n\" + text_memo;\n",
              "\n",
              "    while (format_open > 0) {\n",
              "        text_menu += end_format;\n",
              "        format_open -= 1;\n",
              "    }\n",
              "    return text_menu;\n",
              "};\n",
              "var update_menu = function() {\n",
              "    var sbegin = \"\";\n",
              "    var sformat = '<a href=\"#__HREF__\">__TITLE__</a>';\n",
              "    var send = \"\";\n",
              "    var begin_format = '<li>';\n",
              "    var end_format = '</li>';\n",
              "    var keep_item = -1;\n",
              "    var text_menu = update_menu_string(sbegin, 2, 4, sformat, send, keep_item,\n",
              "       begin_format, end_format);\n",
              "    var menu = document.getElementById(\"my_id_menu_nb\");\n",
              "    menu.innerHTML=text_menu;\n",
              "};\n",
              "window.setTimeout(update_menu,2000);\n",
              "            </script>"
            ],
            "text/plain": [
              "<IPython.core.display.HTML object>"
            ]
          },
          "execution_count": 2,
          "metadata": {},
          "output_type": "execute_result"
        }
      ],
      "source": [
        "from jyquickhelper import add_notebook_menu\n",
        "add_notebook_menu()"
      ]
    },
    {
      "cell_type": "code",
      "execution_count": 2,
      "id": "77369641",
      "metadata": {},
      "outputs": [],
      "source": [
        "%load_ext mlprodict"
      ]
    },
    {
      "cell_type": "markdown",
      "id": "c90bc5d4",
      "metadata": {},
      "source": [
        "## Tree and cython\n",
        "\n",
        "Class [DecisionTreeRegressor](https://scikit-learn.org/stable/modules/generated/sklearn.tree.DecisionTreeRegressor.html#sklearn.tree.DecisionTreeRegressor) is the public API for a tree in scikit-learn. It relies one another implemented in [cython](https://cython.org/) called [Tree](https://github.com/scikit-learn/scikit-learn/blob/main/sklearn/tree/_tree.pyx#L490). This one is private and not supposed to be accessed by users. All methods cannot be accessed from python including the one used to add nodes [add_node](https://github.com/scikit-learn/scikit-learn/blob/main/sklearn/tree/_tree.pyx#L716). Then a little bit of cython is needed to actually create a tree... or we could use function [tree_add_node](http://www.xavierdupre.fr/app/mlinsights/helpsphinx/mlinsights/mltree/_tree_digitize.cpython-39-x86_64-linux-gnu.html)."
      ]
    },
    {
      "cell_type": "code",
      "execution_count": 3,
      "id": "da3043a0",
      "metadata": {},
      "outputs": [
        {
          "name": "stdout",
          "output_type": "stream",
          "text": [
            "Help on built-in function tree_add_node in module mlinsights.mltree._tree_digitize:\n",
            "\n",
            "tree_add_node(...)\n",
            "    tree_add_node(tree, parent, is_left, is_leaf, feature, threshold, impurity, n_node_samples, weighted_n_node_samples)\n",
            "    \n",
            "    Adds a node to tree.\n",
            "    \n",
            "    :param parent: parent index (-1 for the root)\n",
            "    :param is_left: is left node?\n",
            "    :param is_leaf: is leave?\n",
            "    :param feature: feature index\n",
            "    :param threshold: threshold (or value)\n",
            "    :param impurity: impurity\n",
            "    :param n_node_samples: number of samples this node represents\n",
            "    :param weighted_n_node_samples: node weight\n",
            "\n"
          ]
        }
      ],
      "source": [
        "from mlinsights.mltree._tree_digitize import tree_add_node\n",
        "help(tree_add_node)"
      ]
    },
    {
      "cell_type": "markdown",
      "id": "0d7e947f",
      "metadata": {},
      "source": [
        "## A simple problem"
      ]
    },
    {
      "cell_type": "code",
      "execution_count": 4,
      "id": "e204aea1",
      "metadata": {},
      "outputs": [
        {
          "name": "stderr",
          "output_type": "stream",
          "text": [
            "<ipython-input-4-09db879347c8>:16: MatplotlibDeprecationWarning: shading='flat' when X and Y have the same dimensions as C is deprecated since 3.3.  Either specify the corners of the quadrilaterals with X and Y, or pass shading='auto', 'nearest' or 'gouraud', or set rcParams['pcolor.shading'].  This will become an error two minor releases later.\n",
            "  ax.pcolormesh(xx, yy, Z)\n"
          ]
        },
        {
          "data": {
            "image/png": "[encoded data removed]",
            "text/plain": [
              "<Figure size 288x216 with 1 Axes>"
            ]
          },
          "metadata": {
            "needs_background": "light"
          },
          "output_type": "display_data"
        }
      ],
      "source": [
        "import numpy\n",
        "import matplotlib.pyplot as plt\n",
        "\n",
        "\n",
        "def plot_function(fct, title):\n",
        "    x_min, x_max = -1, 1\n",
        "    y_min, y_max = -1, 1\n",
        "    h = 0.02  # step size in the mesh\n",
        "    xx, yy = numpy.meshgrid(numpy.arange(x_min, x_max, h),\n",
        "                            numpy.arange(y_min, y_max, h))\n",
        "    Z = fct(numpy.c_[xx.ravel(), yy.ravel()])\n",
        "\n",
        "    # Put the result into a color plot\n",
        "    Z = Z.reshape(xx.shape)\n",
        "    fig, ax = plt.subplots(1, 1, figsize=(4, 3))\n",
        "    ax.pcolormesh(xx, yy, Z)\n",
        "    ax.set_title(title)\n",
        "    return ax\n",
        "\n",
        "\n",
        "def tree_function(x, y):\n",
        "    if x <= 0:\n",
        "        if y <= 0.2:\n",
        "            return 0\n",
        "        else:\n",
        "            return 1\n",
        "    else:\n",
        "        if y <= -0.1:\n",
        "            return 2\n",
        "        else:\n",
        "            return 3\n",
        "\n",
        "\n",
        "def tree_function_data(xy):\n",
        "    res = numpy.empty(xy.shape[0], dtype=numpy.float64)\n",
        "    for i in range(0, xy.shape[0]):\n",
        "        res[i] = tree_function(xy[i, 0], xy[i, 1])\n",
        "    return res\n",
        "\n",
        "        \n",
        "plot_function(tree_function_data, \"tree_function_data\");"
      ]
    },
    {
      "cell_type": "markdown",
      "id": "cee130e6",
      "metadata": {},
      "source": [
        "## The tree construction\n",
        "\n",
        "The tree needs two features and has three nodes."
      ]
    },
    {
      "cell_type": "code",
      "execution_count": 5,
      "id": "a68bcafd",
      "metadata": {
        "scrolled": false
      },
      "outputs": [
        {
          "data": {
            "text/plain": [
              "(0, 1, 4, [99999, 99999, 0, 1, 99999, 2, 3])"
            ]
          },
          "execution_count": 6,
          "metadata": {},
          "output_type": "execute_result"
        }
      ],
      "source": [
        "from sklearn.tree._tree import Tree\n",
        "\n",
        "UNUSED = 99999\n",
        "\n",
        "values = []  # stored the predicted values\n",
        "\n",
        "tree = Tree(2,  # n_features\n",
        "            numpy.array([1], dtype=numpy.intp),  #  n_classes\n",
        "            1,  # n_outputs\n",
        "            )\n",
        "\n",
        "\n",
        "# First node: the root: x <= 0\n",
        "index = tree_add_node(tree,\n",
        "                      -1,          # parent index\n",
        "                      False,       # is left node\n",
        "                      False,       # is leaf\n",
        "                      0,           # feature index\n",
        "                      0,           # threshold\n",
        "                      0, 1, 1.)    # impurity, n_node_samples, node weight\n",
        "values.append(UNUSED)\n",
        "\n",
        "\n",
        "# Second node: y <= 0.2\n",
        "index1 = tree_add_node(tree,\n",
        "                       index,       # parent index\n",
        "                       True,        # is left node\n",
        "                       False,       # is leaf\n",
        "                       1,           # feature index\n",
        "                       0.2,         # threshold\n",
        "                       0, 1, 1.)    # impurity, n_node_samples, node weight\n",
        "values.append(UNUSED)\n",
        "\n",
        "# First leaf\n",
        "leaf_1 = tree_add_node(tree,\n",
        "                       index1,      # parent index\n",
        "                       True,        # is left node\n",
        "                       True,        # is leaf\n",
        "                       0,           # feature index\n",
        "                       0,           # threshold\n",
        "                       0, 1, 1.)    # impurity, n_node_samples, node weight\n",
        "values.append(0)\n",
        "\n",
        "# Second leaf\n",
        "leaf_2 = tree_add_node(tree, index1, False, True, 0, 0, 0, 1, 1.)\n",
        "values.append(1)\n",
        "\n",
        "# Third node: y <= -0.1\n",
        "index2 = tree_add_node(tree,\n",
        "                       index,       # parent index\n",
        "                       False,       # is left node\n",
        "                       False,       # is right node\n",
        "                       1,           # feature index\n",
        "                       -0.1,        # threshold\n",
        "                       0, 1, 1.)    # impurity, n_node_samples, node weight\n",
        "values.append(UNUSED)\n",
        "\n",
        "# Thrid leaf\n",
        "leaf_3 = tree_add_node(tree,\n",
        "                       index2,      # parent index\n",
        "                       True,        # is left node\n",
        "                       True,        # is leaf\n",
        "                       0,           # feature index\n",
        "                       0,           # threshold\n",
        "                       0, 1, 1.)    # impurity, n_node_samples, node weight\n",
        "values.append(2)\n",
        "\n",
        "# Fourth leaf\n",
        "leaf_4 = tree_add_node(tree, index2, False, True, 0, 0, 0, 1, 1.)\n",
        "values.append(3)\n",
        "\n",
        "\n",
        "index, index1, index2, values"
      ]
    },
    {
      "cell_type": "markdown",
      "id": "290ece15",
      "metadata": {},
      "source": [
        "The final detail."
      ]
    },
    {
      "cell_type": "code",
      "execution_count": 6,
      "id": "9e88a6fa",
      "metadata": {},
      "outputs": [],
      "source": [
        "tree.max_depth = 2"
      ]
    },
    {
      "cell_type": "markdown",
      "id": "a786731e",
      "metadata": {},
      "source": [
        "The internal structure is created, let's complete the public API."
      ]
    },
    {
      "cell_type": "code",
      "execution_count": 7,
      "id": "dd38c049",
      "metadata": {},
      "outputs": [
        {
          "data": {
            "text/plain": [
              "DecisionTreeRegressor()"
            ]
          },
          "execution_count": 8,
          "metadata": {},
          "output_type": "execute_result"
        }
      ],
      "source": [
        "from sklearn.tree import DecisionTreeRegressor\n",
        "\n",
        "reg = DecisionTreeRegressor()\n",
        "reg.tree_ = tree\n",
        "reg.tree_.value[:, 0, 0] = numpy.array(  # pylint: disable=E1137\n",
        "    values, dtype=numpy.float64)\n",
        "reg.n_outputs = 1\n",
        "reg.n_outputs_ = 1\n",
        "reg.n_features_in_ = 2  # scikit-learn >= 0.24\n",
        "reg.maxdepth = tree.max_depth\n",
        "\n",
        "reg"
      ]
    },
    {
      "cell_type": "code",
      "execution_count": 8,
      "id": "c9f97e61",
      "metadata": {},
      "outputs": [
        {
          "name": "stderr",
          "output_type": "stream",
          "text": [
            "<ipython-input-4-09db879347c8>:16: MatplotlibDeprecationWarning: shading='flat' when X and Y have the same dimensions as C is deprecated since 3.3.  Either specify the corners of the quadrilaterals with X and Y, or pass shading='auto', 'nearest' or 'gouraud', or set rcParams['pcolor.shading'].  This will become an error two minor releases later.\n",
            "  ax.pcolormesh(xx, yy, Z)\n"
          ]
        },
        {
          "data": {
            "image/png": "[encoded data removed]",
            "text/plain": [
              "<Figure size 288x216 with 1 Axes>"
            ]
          },
          "metadata": {
            "needs_background": "light"
          },
          "output_type": "display_data"
        }
      ],
      "source": [
        "plot_function(reg.predict, \"DecisionTreeRegressor\");"
      ]
    },
    {
      "cell_type": "markdown",
      "id": "b1c78f54",
      "metadata": {},
      "source": [
        "It is the same."
      ]
    },
    {
      "cell_type": "markdown",
      "id": "6e9d58a0",
      "metadata": {},
      "source": [
        "## Conversion to ONNX\n",
        "\n",
        "The only difference is ONNX does not support double (float64) in opset 15 or below with  [TreeEnsembleRegressor](https://github.com/onnx/onnx/blob/master/docs/Operators-ml.md#ai.onnx.ml.TreeEnsembleRegressor). It does not really matter for this example but it could (see this example [Discrepancies](http://www.xavierdupre.fr/app/onnxcustom/helpsphinx/gyexamples/plot_ebegin_float_double.html))."
      ]
    },
    {
      "cell_type": "code",
      "execution_count": 9,
      "id": "01dc60af",
      "metadata": {},
      "outputs": [
        {
          "data": {
            "text/html": [
              "<div id=\"M69742ad0b8b24980a768b0f00f3b9502-cont\"><div id=\"M69742ad0b8b24980a768b0f00f3b9502\" style=\"width:;height:;\"></div></div>\n",
              "<script>\n",
              "\n",
              "require(['http://www.xavierdupre.fr/js/vizjs/viz.js'], function() { var svgGraph = Viz(\"digraph{\\n  ranksep=0.25;\\n  size=7;\\n  orientation=portrait;\\n  nodesep=0.05;\\n\\n  X [shape=box color=red label=\\\"X\\nfloat((0, 2))\\\" fontsize=10];\\n\\n  variable [shape=box color=green label=\\\"variable\\nfloat((0, 1))\\\" fontsize=10];\\n\\n\\n  TreeEnsembleRegressor [shape=box style=\\\"filled,rounded\\\" color=orange label=\\\"TreeEnsembleRegressor\\n(TreeEnsembleRegressor)\\nn_targets=1\\nnodes_falsenodeids=[4 3 0 0 6 0...\\nnodes_featureids=[0 1 0 0 1 0 0...\\nnodes_hitrates=[1. 1. 1. 1. 1. ...\\nnodes_missing_value_tracks_true=[0 0 0 0 0...\\nnodes_modes=[b'BRANCH_LEQ' b'BR...\\nnodes_nodeids=[0 1 2 3 4 5 6]\\nnodes_treeids=[0 0 0 0 0 0 0]\\nnodes_truenodeids=[1 2 0 0 5 0 ...\\nnodes_values=[ 0.          0.19...\\npost_transform=b'NONE'\\ntarget_ids=[0 0 0 0]\\ntarget_nodeids=[2 3 5 6]\\ntarget_treeids=[0 0 0 0]\\ntarget_weights=[0. 1. 2. 3.]\\\" fontsize=10];\\n  X -> TreeEnsembleRegressor;\\n  TreeEnsembleRegressor -> variable;\\n}\");\n",
              "document.getElementById('M69742ad0b8b24980a768b0f00f3b9502').innerHTML = svgGraph; });\n",
              "\n",
              "</script>"
            ],
            "text/plain": [
              "<jyquickhelper.jspy.render_nb_js_dot.RenderJsDot at 0x2506e457f70>"
            ]
          },
          "execution_count": 10,
          "metadata": {},
          "output_type": "execute_result"
        }
      ],
      "source": [
        "from skl2onnx import to_onnx\n",
        "\n",
        "feat = numpy.empty((1, 2), dtype=numpy.float32)\n",
        "onx = to_onnx(reg, feat, target_opset=14)\n",
        "\n",
        "%onnxview onx"
      ]
    },
    {
      "cell_type": "markdown",
      "id": "b40e4922",
      "metadata": {},
      "source": [
        "And we execute it with onnxruntime."
      ]
    },
    {
      "cell_type": "code",
      "execution_count": 10,
      "id": "534839cc",
      "metadata": {},
      "outputs": [
        {
          "name": "stdout",
          "output_type": "stream",
          "text": [
            "No CUDA runtime is found, using CUDA_HOME='C:\\Program Files\\NVIDIA GPU Computing Toolkit\\CUDA\\v11.4'\n"
          ]
        },
        {
          "name": "stderr",
          "output_type": "stream",
          "text": [
            "<ipython-input-4-09db879347c8>:16: MatplotlibDeprecationWarning: shading='flat' when X and Y have the same dimensions as C is deprecated since 3.3.  Either specify the corners of the quadrilaterals with X and Y, or pass shading='auto', 'nearest' or 'gouraud', or set rcParams['pcolor.shading'].  This will become an error two minor releases later.\n",
            "  ax.pcolormesh(xx, yy, Z)\n"
          ]
        },
        {
          "data": {
            "image/png": "[encoded data removed]",
            "text/plain": [
              "<Figure size 288x216 with 1 Axes>"
            ]
          },
          "metadata": {
            "needs_background": "light"
          },
          "output_type": "display_data"
        }
      ],
      "source": [
        "from onnxruntime import InferenceSession\n",
        "\n",
        "sess = InferenceSession(onx.SerializeToString())\n",
        "\n",
        "plot_function(lambda x: sess.run(None, {'X': x.astype(numpy.float32)})[0], \"onnxruntime\");"
      ]
    },
    {
      "cell_type": "markdown",
      "id": "884a78ff",
      "metadata": {},
      "source": [
        "Still the same."
      ]
    },
    {
      "cell_type": "markdown",
      "id": "365e311d",
      "metadata": {},
      "source": [
        "## Text visualization\n",
        "\n",
        "This can be useful to debug a function building a tree.\n",
        "\n",
        "See [onnx_text_plot_tree](http://www.xavierdupre.fr/app/mlprodict/helpsphinx/mlprodict/plotting/text_plot.html#mlprodict.plotting.text_plot.onnx_text_plot_tree), [export_text](https://scikit-learn.org/stable/modules/generated/sklearn.tree.export_text.html?highlight=export_text#sklearn.tree.export_text), [plot_tree](https://scikit-learn.org/stable/modules/generated/sklearn.tree.plot_tree.html?highlight=plot_tree#sklearn.tree.plot_tree)."
      ]
    },
    {
      "cell_type": "code",
      "execution_count": 11,
      "id": "ccb460ab",
      "metadata": {},
      "outputs": [
        {
          "name": "stdout",
          "output_type": "stream",
          "text": [
            "n_targets=1\n",
            "n_trees=1\n",
            "----\n",
            "treeid=0\n",
            " X0 <= 0.0\n",
            "   F X1 <= -0.1\n",
            "      F y=3.0 f=0 i=6\n",
            "      T y=2.0 f=0 i=5\n",
            "   T X1 <= 0.19999999\n",
            "      F y=1.0 f=0 i=3\n",
            "      T y=0.0 f=0 i=2\n"
          ]
        }
      ],
      "source": [
        "from mlprodict.plotting.text_plot import onnx_text_plot_tree\n",
        "\n",
        "print(onnx_text_plot_tree(onx.graph.node[0]))"
      ]
    },
    {
      "cell_type": "code",
      "execution_count": 12,
      "id": "2f3d8ae0",
      "metadata": {},
      "outputs": [
        {
          "name": "stdout",
          "output_type": "stream",
          "text": [
            "|--- feature_0 <= 0.00\n",
            "|   |--- feature_1 <= 0.20\n",
            "|   |   |--- value: [0.00]\n",
            "|   |--- feature_1 >  0.20\n",
            "|   |   |--- value: [1.00]\n",
            "|--- feature_0 >  0.00\n",
            "|   |--- feature_1 <= -0.10\n",
            "|   |   |--- value: [2.00]\n",
            "|   |--- feature_1 >  -0.10\n",
            "|   |   |--- value: [3.00]\n",
            "\n"
          ]
        }
      ],
      "source": [
        "from sklearn.tree import export_text\n",
        "\n",
        "print(export_text(reg))"
      ]
    },
    {
      "cell_type": "code",
      "execution_count": 13,
      "id": "f68753e2",
      "metadata": {},
      "outputs": [
        {
          "data": {
            "image/png": "[encoded data removed]",
            "text/plain": [
              "<Figure size 720x360 with 1 Axes>"
            ]
          },
          "metadata": {
            "needs_background": "light"
          },
          "output_type": "display_data"
        }
      ],
      "source": [
        "from sklearn.tree import plot_tree\n",
        "\n",
        "fig = plt.figure(figsize=(10,5))\n",
        "plot_tree(reg, feature_names=['x', 'y'], filled=True);"
      ]
    },
    {
      "cell_type": "code",
      "execution_count": 14,
      "id": "7beab8af",
      "metadata": {},
      "outputs": [],
      "source": []
    }
  ],
  "metadata": {
    "kernelspec": {
      "display_name": "Python 3",
      "language": "python",
      "name": "python3"
    },
    "language_info": {
      "codemirror_mode": {
        "name": "ipython",
        "version": 3
      },
      "file_extension": ".py",
      "mimetype": "text/x-python",
      "name": "python",
      "nbconvert_exporter": "python",
      "pygments_lexer": "ipython3",
      "version": "3.9.5"
    }
  },
  "nbformat": 4,
  "nbformat_minor": 5
}